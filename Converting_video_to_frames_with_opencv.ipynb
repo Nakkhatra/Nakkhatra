{
  "nbformat": 4,
  "nbformat_minor": 0,
  "metadata": {
    "colab": {
      "name": "Converting video to frames with opencv.ipynb",
      "provenance": [],
      "collapsed_sections": [],
      "authorship_tag": "ABX9TyOKh+G+puw6K+XJ0ePLAolT",
      "include_colab_link": true
    },
    "kernelspec": {
      "name": "python3",
      "display_name": "Python 3"
    },
    "language_info": {
      "name": "python"
    }
  },
  "cells": [
    {
      "cell_type": "markdown",
      "metadata": {
        "id": "view-in-github",
        "colab_type": "text"
      },
      "source": [
        "<a href=\"https://colab.research.google.com/github/Nakkhatra/Nakkhatra/blob/main/Converting_video_to_frames_with_opencv.ipynb\" target=\"_parent\"><img src=\"https://colab.research.google.com/assets/colab-badge.svg\" alt=\"Open In Colab\"/></a>"
      ]
    },
    {
      "cell_type": "code",
      "metadata": {
        "colab": {
          "base_uri": "https://localhost:8080/"
        },
        "id": "6z_HvuMB4zQm",
        "outputId": "080a93a1-d980-4409-b2e5-db0bab2c72cd"
      },
      "source": [
        "!pip install opencv-python\n",
        "import cv2\n",
        "from google.colab.patches import cv2_imshow\n",
        "from google.colab import drive"
      ],
      "execution_count": 1,
      "outputs": [
        {
          "output_type": "stream",
          "text": [
            "Requirement already satisfied: opencv-python in /usr/local/lib/python3.7/dist-packages (4.1.2.30)\n",
            "Requirement already satisfied: numpy>=1.14.5 in /usr/local/lib/python3.7/dist-packages (from opencv-python) (1.19.5)\n"
          ],
          "name": "stdout"
        }
      ]
    },
    {
      "cell_type": "code",
      "metadata": {
        "colab": {
          "base_uri": "https://localhost:8080/"
        },
        "id": "j1xYoh-746pT",
        "outputId": "e2536429-6cc0-4bc5-bf3c-18eb93c7abee"
      },
      "source": [
        "from google.colab import drive\n",
        "drive.mount('/content/drive/')"
      ],
      "execution_count": 2,
      "outputs": [
        {
          "output_type": "stream",
          "text": [
            "Drive already mounted at /content/drive/; to attempt to forcibly remount, call drive.mount(\"/content/drive/\", force_remount=True).\n"
          ],
          "name": "stdout"
        }
      ]
    },
    {
      "cell_type": "code",
      "metadata": {
        "id": "Ph_RpmDb5SNQ"
      },
      "source": [
        "filelist = ['20161020_183650_E1.avi','20161020_191217_E1.avi','20161021_061332_E1.avi',\n",
        " '20161020_190507_E1.avi','20161021_053745_E1.avi','20161021_061507_E1.avi']"
      ],
      "execution_count": 3,
      "outputs": []
    },
    {
      "cell_type": "markdown",
      "metadata": {
        "id": "-YnclbrZ-t9n"
      },
      "source": [
        "Counting the framerate of the files\n"
      ]
    },
    {
      "cell_type": "code",
      "metadata": {
        "colab": {
          "base_uri": "https://localhost:8080/"
        },
        "id": "hbrgMdtd6AgJ",
        "outputId": "8a172326-73d0-4823-ee70-467410c66dc4"
      },
      "source": [
        "duration=30\n",
        "for files in filelist:\n",
        "  parentdir= '/content/drive/MyDrive/Driving dataset/'\n",
        "  cap= cv2.VideoCapture(parentdir+files)\n",
        "  framecount= int(cap.get(cv2.CAP_PROP_FRAME_COUNT))\n",
        "  framerate= round(framecount/duration,2)\n",
        "  print(f'file={files}, Total frames={framecount}, framerate= {framerate}')"
      ],
      "execution_count": 4,
      "outputs": [
        {
          "output_type": "stream",
          "text": [
            "file=20161020_183650_E1.avi, Total frames=818, framerate= 27.27\n",
            "file=20161020_191217_E1.avi, Total frames=810, framerate= 27.0\n",
            "file=20161021_061332_E1.avi, Total frames=821, framerate= 27.37\n",
            "file=20161020_190507_E1.avi, Total frames=813, framerate= 27.1\n",
            "file=20161021_053745_E1.avi, Total frames=818, framerate= 27.27\n",
            "file=20161021_061507_E1.avi, Total frames=806, framerate= 26.87\n"
          ],
          "name": "stdout"
        }
      ]
    },
    {
      "cell_type": "code",
      "metadata": {
        "id": "1fFDKlRPCkRT"
      },
      "source": [
        "def videotoimage(filelist,fps):\n",
        "  f=1\n",
        "  for files in filelist:\n",
        "    parentdir= '/content/drive/MyDrive/Driving dataset/'\n",
        "    cap= cv2.VideoCapture(parentdir+files)\n",
        "    print(parentdir+files)\n",
        "    \n",
        "    count=0\n",
        "    img=1\n",
        "    path= '/content/drive/MyDrive/Video2image/'\n",
        "    ret=True\n",
        "    while ret:\n",
        "      ret,frame= cap.read()\n",
        "      if count % fps==0:\n",
        "        try:\n",
        "          cv2.imwrite(path+f'vid-{f}-frame-{img}'+'.jpg',frame)\n",
        "          img+=1\n",
        "        except:\n",
        "          print(\"Writing failed\")\n",
        "          continue\n",
        "      count+=1\n",
        "    f+=1"
      ],
      "execution_count": 5,
      "outputs": []
    },
    {
      "cell_type": "code",
      "metadata": {
        "colab": {
          "base_uri": "https://localhost:8080/"
        },
        "id": "BIOu6woOMIl3",
        "outputId": "a2f035ed-42b5-4040-f10a-3f810ffbf7b8"
      },
      "source": [
        "videotoimage(filelist, fps=5)"
      ],
      "execution_count": 6,
      "outputs": [
        {
          "output_type": "stream",
          "text": [
            "/content/drive/MyDrive/Driving dataset/20161020_183650_E1.avi\n",
            "/content/drive/MyDrive/Driving dataset/20161020_191217_E1.avi\n",
            "Writing failed\n",
            "/content/drive/MyDrive/Driving dataset/20161021_061332_E1.avi\n",
            "/content/drive/MyDrive/Driving dataset/20161020_190507_E1.avi\n",
            "/content/drive/MyDrive/Driving dataset/20161021_053745_E1.avi\n",
            "/content/drive/MyDrive/Driving dataset/20161021_061507_E1.avi\n"
          ],
          "name": "stdout"
        }
      ]
    }
  ]
}